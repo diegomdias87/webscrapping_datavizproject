{
 "cells": [
  {
   "cell_type": "markdown",
   "metadata": {
    "heading_collapsed": true
   },
   "source": [
    "# Import Libraries"
   ]
  },
  {
   "cell_type": "code",
   "execution_count": 2,
   "metadata": {
    "ExecuteTime": {
     "end_time": "2021-02-19T10:42:12.140957Z",
     "start_time": "2021-02-19T10:42:10.647988Z"
    },
    "hidden": true
   },
   "outputs": [],
   "source": [
    "import pandas as pd\n",
    "from selenium import webdriver\n",
    "import time\n",
    "from selenium.webdriver.common.by import By\n",
    "from selenium.webdriver.support import expected_conditions as EC\n",
    "from selenium.webdriver.support.wait import WebDriverWait\n",
    "from selenium.common.exceptions import TimeoutException"
   ]
  },
  {
   "cell_type": "markdown",
   "metadata": {
    "heading_collapsed": true
   },
   "source": [
    "# Define Countries to be in the list"
   ]
  },
  {
   "cell_type": "code",
   "execution_count": null,
   "metadata": {
    "hidden": true
   },
   "outputs": [],
   "source": [
    "paises_filtrados = ['Alemanha', 'Angola', 'Argélia', 'Argentina', 'Arménia', 'Bélgica', 'Bolívia', 'Brasil', 'Bulgária', 'Camarões', 'Canadá', 'Chile', 'China', 'Colômbia', 'Coreia do Sul', 'Costa do Marfim',\n",
    "                    'Costa Rica', 'Croácia', 'Dinamarca', 'Egito', 'Emirados Árabes Unidos', 'Equador', 'Escócia', 'Espanha', 'Estados Unidos da América', 'França', 'Gana', 'Grécia', 'Holanda', 'Inglaterra', \n",
    "                    'Irlanda', 'Irlanda do Norte', 'Islândia', 'Israel', 'Itália', 'Japão', 'Marrocos', 'México', 'Mónaco', 'Nigéria', 'Noruega', 'Paraguai', 'Perú', 'Polónia', 'Portugal', 'Qatar', 'Quénia', \n",
    "                    'RD do Congo', 'Reino Unido', 'República Checa', 'República Popular do Congo', 'Rússia', 'Senegal', 'Sérvia', 'Sérvia e Montenegro', 'Sudão', 'Sudão do Sul', 'Suécia', 'Suiça', 'Tailândia', \n",
    "                    'Trinidad e Tobago', 'Tunísia', 'Turquia', 'Ucrânia', 'Uruguai', 'Venezuela']"
   ]
  },
  {
   "cell_type": "markdown",
   "metadata": {},
   "source": [
    "# Get the data"
   ]
  },
  {
   "cell_type": "markdown",
   "metadata": {
    "heading_collapsed": true
   },
   "source": [
    "## Get the country link"
   ]
  },
  {
   "cell_type": "markdown",
   "metadata": {
    "heading_collapsed": true,
    "hidden": true
   },
   "source": [
    "### Function to get the url"
   ]
  },
  {
   "cell_type": "code",
   "execution_count": null,
   "metadata": {
    "hidden": true
   },
   "outputs": [],
   "source": [
    "def get_country_url(list_paises):\n",
    "    for p in list_paises:\n",
    "        chrome_path = 'C:/Users/dmakishidias/Documents/Selenium/chromedriver.exe'\n",
    "        driver = webdriver.Chrome(executable_path=chrome_path)\n",
    "        # navigate to webpage\n",
    "        url = 'https://www.transfermarkt.com.br/'\n",
    "        driver.get(url)\n",
    "        # Country drop down\n",
    "        shadow_section = driver.execute_script('''return document.querySelector(\"tm-quick-select-bar\").shadowRoot''')\n",
    "        # Click on arrow to show countries\n",
    "        shadow_section.find_element_by_css_selector('div > form:nth-child(2) > div > div').click()\n",
    "        # Type the country name\n",
    "        shadow_section.find_element_by_css_selector('div > form:nth-child(2) > div.selector-dropdown > div > input[type=search]').send_keys(p)\n",
    "        # Press enter\n",
    "        shadow_section.find_element_by_css_selector('#mylist > li').click()\n",
    "        # Get URL\n",
    "        url = shadow_section.find_element_by_css_selector('div > form:nth-child(2) > a').get_attribute('href')\n",
    "        # Add to the table\n",
    "        list_to_add = [p, url]\n",
    "        paises_url.loc[-1] = list_to_add\n",
    "        paises_url = paises_url.reset_index(drop=True)\n",
    "        # close\n",
    "        driver.close() \n",
    "        return paises_url"
   ]
  },
  {
   "cell_type": "markdown",
   "metadata": {
    "heading_collapsed": true,
    "hidden": true
   },
   "source": [
    "### Save the data in CSV"
   ]
  },
  {
   "cell_type": "code",
   "execution_count": null,
   "metadata": {
    "hidden": true
   },
   "outputs": [],
   "source": [
    "paises_url.to_csv('paises.csv')"
   ]
  },
  {
   "cell_type": "markdown",
   "metadata": {
    "heading_collapsed": true
   },
   "source": [
    "## Get the league info"
   ]
  },
  {
   "cell_type": "markdown",
   "metadata": {
    "heading_collapsed": true,
    "hidden": true
   },
   "source": [
    "### Save the csv with countries links in a pandas dataframe"
   ]
  },
  {
   "cell_type": "code",
   "execution_count": null,
   "metadata": {
    "hidden": true
   },
   "outputs": [],
   "source": [
    "pd_paises_url = pd.read_csv('paises.csv')"
   ]
  },
  {
   "cell_type": "markdown",
   "metadata": {
    "heading_collapsed": true,
    "hidden": true
   },
   "source": [
    "### Function to get the url"
   ]
  },
  {
   "cell_type": "code",
   "execution_count": null,
   "metadata": {
    "hidden": true
   },
   "outputs": [],
   "source": [
    "def get_league_url(pd_paises_url):\n",
    "    for p in pd_paises_url.values: \n",
    "        chrome_path = 'C:/Users/dmakishidias/Documents/Selenium/chromedriver.exe'\n",
    "        driver = webdriver.Chrome(executable_path=chrome_path)\n",
    "        # navigate to webpage\n",
    "        urlp = p[2] \n",
    "        driver.get(urlp)\n",
    "        try:\n",
    "            # First League\n",
    "            liga = driver.find_element_by_css_selector('#yw1 > table > tbody > tr:nth-child(2) > td:nth-child(1)').text \n",
    "            url = driver.find_element_by_css_selector('#yw1 > table > tbody > tr:nth-child(2) > td:nth-child(1) > table > tbody > tr > td:nth-child(2) > a').get_attribute('href')\n",
    "            list_to_add = [p[0], liga, url]\n",
    "            liga_url.loc[-1] = list_to_add\n",
    "            liga_url = liga_url.reset_index(drop=True)\n",
    "        except:\n",
    "            pass\n",
    "        try:\n",
    "            # Second League\n",
    "            liga = driver.find_element_by_css_selector('#yw1 > table > tbody > tr:nth-child(4) > td:nth-child(1)').text \n",
    "            url = driver.find_element_by_css_selector('#yw1 > table > tbody > tr:nth-child(4) > td:nth-child(1) > table > tbody > tr > td:nth-child(2) > a').get_attribute('href')\n",
    "            list_to_add = [p[0], liga, url]\n",
    "            liga_url.loc[-1] = list_to_add\n",
    "            liga_url = liga_url.reset_index(drop=True)\n",
    "        except:\n",
    "            pass\n",
    "        driver.close() \n",
    "    return liga_url"
   ]
  },
  {
   "cell_type": "markdown",
   "metadata": {
    "heading_collapsed": true,
    "hidden": true
   },
   "source": [
    "### Save the data in CSV"
   ]
  },
  {
   "cell_type": "code",
   "execution_count": null,
   "metadata": {
    "hidden": true
   },
   "outputs": [],
   "source": [
    "liga_url = pd.read_csv('ligas.csv')"
   ]
  },
  {
   "cell_type": "markdown",
   "metadata": {
    "heading_collapsed": true
   },
   "source": [
    "## Get the team info"
   ]
  },
  {
   "cell_type": "markdown",
   "metadata": {
    "heading_collapsed": true,
    "hidden": true
   },
   "source": [
    "### Save the csv with league links in a pandas dataframe"
   ]
  },
  {
   "cell_type": "code",
   "execution_count": null,
   "metadata": {
    "hidden": true
   },
   "outputs": [],
   "source": [
    "pd_league_url = pd.DataFrame(columns=['liga', 'time', 'url'])"
   ]
  },
  {
   "cell_type": "markdown",
   "metadata": {
    "heading_collapsed": true,
    "hidden": true
   },
   "source": [
    "### Function to get the url"
   ]
  },
  {
   "cell_type": "code",
   "execution_count": null,
   "metadata": {
    "hidden": true
   },
   "outputs": [],
   "source": [
    "def get_team_url(pd_league_url):\n",
    "    for p in liga_url.values: \n",
    "        chrome_path = 'C:/Users/dmakishidias/Documents/Selenium/chromedriver.exe'\n",
    "        driver = webdriver.Chrome(executable_path=chrome_path)\n",
    "        # navigate to webpage\n",
    "        urlp = p[3] \n",
    "        driver.get(urlp)\n",
    "        try:\n",
    "            r = len(driver.find_element_by_css_selector('#yw1 > table > tbody').text.split('\\n')) + 1 \n",
    "            for t in range(1, r): \n",
    "                xp_begin = '#yw1 > table > tbody > tr:nth-child('\n",
    "                xp_end = ') > td.hauptlink.no-border-links.show-for-small.show-for-pad > a'\n",
    "                xp_full = xp_begin + str(t) + xp_end\n",
    "                time = driver.find_element_by_css_selector('#yw1 > table > tbody > tr:nth-child(1) > td.hauptlink.no-border-links.show-for-small.show-for-pad').text \n",
    "                url = driver.find_element_by_css_selector(xp_full).get_attribute('href')\n",
    "                list_to_add = [p[2], time, url]  \n",
    "                team_table.loc[-1] = list_to_add\n",
    "                team_table = team_table.reset_index(drop=True)   \n",
    "        except:\n",
    "            pass\n",
    "        driver.close() \n",
    "        return team_table"
   ]
  },
  {
   "cell_type": "markdown",
   "metadata": {
    "heading_collapsed": true,
    "hidden": true
   },
   "source": [
    "### Save the data in CSV"
   ]
  },
  {
   "cell_type": "code",
   "execution_count": null,
   "metadata": {
    "hidden": true
   },
   "outputs": [],
   "source": [
    "team_table = pd.read_csv('teams.csv')"
   ]
  },
  {
   "cell_type": "markdown",
   "metadata": {},
   "source": [
    "## Get the player info"
   ]
  },
  {
   "cell_type": "markdown",
   "metadata": {},
   "source": [
    "### Function to get the url"
   ]
  },
  {
   "cell_type": "code",
   "execution_count": null,
   "metadata": {},
   "outputs": [],
   "source": [
    "def get_player_link2(url_team):\n",
    "    from selenium import webdriver\n",
    "    chrome_path = 'C:/Users/dmakishidias/Documents/Selenium/chromedriver.exe'\n",
    "    driver = webdriver.Chrome(executable_path=chrome_path)\n",
    "    driver.get(url_team)\n",
    "    player_url = []\n",
    "    try:\n",
    "            r = len(driver.find_element_by_css_selector('#yw1 > table > tbody').text.split('\\n')) + 1 \n",
    "            for t in range(1, r): \n",
    "                xp_begin = '#yw1 > table > tbody > tr:nth-child('\n",
    "                xp_end = ') > td.posrela > table > tbody > tr:nth-child(1) > td.hauptlink'\n",
    "                xp_full = xp_begin + str(t) + xp_end\n",
    "                atleta = driver.find_element_by_css_selector(xp_full).text \n",
    "\n",
    "                xp_begin = '#yw1 > table > tbody > tr:nth-child('\n",
    "                xp_end = ') > td.posrela > table > tbody > tr:nth-child(1) > td.hauptlink > div:nth-child(1) > span > a'\n",
    "                xp_full = xp_begin + str(t) + xp_end\n",
    "                url = driver.find_element_by_css_selector(xp_full).get_attribute('href')\n",
    "\n",
    "                list_to_add = [atleta, url]  \n",
    "                player_url.append(list_to_add)        \n",
    "    except:\n",
    "        pass\n",
    "    driver.close() \n",
    "    return player_url"
   ]
  },
  {
   "cell_type": "markdown",
   "metadata": {
    "heading_collapsed": true
   },
   "source": [
    "### Get the info with multiprocessing"
   ]
  },
  {
   "cell_type": "code",
   "execution_count": null,
   "metadata": {
    "hidden": true
   },
   "outputs": [],
   "source": [
    "%%time\n",
    "pool = multiprocess.Pool(processes=12)\n",
    "result = pool.map(get_player_link2, tqdm(team_table['url'].unique()))\n",
    "pool.terminate()"
   ]
  },
  {
   "cell_type": "markdown",
   "metadata": {
    "heading_collapsed": true
   },
   "source": [
    "### Transform the list in a pandas dataframe"
   ]
  },
  {
   "cell_type": "code",
   "execution_count": null,
   "metadata": {
    "hidden": true
   },
   "outputs": [],
   "source": [
    "for r in result:\n",
    "    try:\n",
    "        player_url = pd.concat([tabela_jogadores, r], ignore_index = True)\n",
    "    except:\n",
    "        pass"
   ]
  },
  {
   "cell_type": "markdown",
   "metadata": {
    "heading_collapsed": true
   },
   "source": [
    "### Get the player info"
   ]
  },
  {
   "cell_type": "code",
   "execution_count": null,
   "metadata": {
    "code_folding": [],
    "hidden": true
   },
   "outputs": [],
   "source": [
    "def get_player_info(url, df_verificacao):\n",
    "    if url in df_verificacao['url'].values:\n",
    "        print('test')\n",
    "        return [None, None]\n",
    "    else:\n",
    "        # ADD PLAYERS FOR LOOP\n",
    "        import pandas as pd\n",
    "        from selenium import webdriver\n",
    "        import time\n",
    "        from selenium.webdriver.common.by import By\n",
    "        from selenium.webdriver.support import expected_conditions as EC\n",
    "        from selenium.webdriver.support.wait import WebDriverWait\n",
    "        from selenium.common.exceptions import TimeoutException\n",
    "        tabela_jogadores = pd.DataFrame(columns=['atleta', 'data_nascimento', 'local_nascimento', 'idade', 'altura', 'nacionalidade', 'posição', 'pé', 'empresários', 'clube_atual', 'tempo_clube', 'contrato',\n",
    "                                                 'ultima_renovacao', 'fornecedor', 'posicao_secundaria', 'valor_atual', 'ultima_alteracao', 'url'])\n",
    "\n",
    "        chrome_path = 'C:/Users/dmakishidias/Documents/Selenium/chromedriver.exe'\n",
    "        driver = webdriver.Chrome(executable_path=chrome_path)\n",
    "        # navigate to webpage\n",
    "        try:\n",
    "            driver.get(url)\n",
    "            player_info = driver.find_element_by_xpath('//*[@id=\"main\"]/div[11]/div[1]/div[2]/div[2]/div[2]/div[2]/table').text\n",
    "            player_info = player_info.split('\\n')\n",
    "            player_info_dict = {}\n",
    "            for info in range(len(player_info)):\n",
    "                player_info[info]\n",
    "                try:\n",
    "                    info_list = player_info[info].split(':')\n",
    "                    player_info_dict[info_list[0]] = info_list[1] \n",
    "                except:\n",
    "                    pass\n",
    "            # Add player info with try\n",
    "            try:\n",
    "                tabela_jogadores.loc[-1, 'atleta'] = driver.find_element_by_xpath('//*[@id=\"main\"]/div[8]/div/div/div[1]/div/div[1]/h1').text \n",
    "            except:\n",
    "                try:\n",
    "                    tabela_jogadores.loc[-1, 'atleta'] = driver.find_element_by_xpath('//*[@id=\"main\"]/div[8]/div/div/div[2]/div/div[1]/h1').text \n",
    "                except:\n",
    "                    pass\n",
    "            try:\n",
    "                tabela_jogadores.loc[-1, 'data_nascimento'] = player_info_dict['Data de nascimento'].strip()\n",
    "            except:\n",
    "                pass   \n",
    "            try:\n",
    "                tabela_jogadores.loc[-1, 'local_nascimento'] = player_info_dict['Local de nascimento'].strip()\n",
    "            except:\n",
    "                pass  \n",
    "            try:\n",
    "                tabela_jogadores.loc[-1, 'idade'] = player_info_dict['Idade'].strip()\n",
    "            except:\n",
    "                pass \n",
    "            try:\n",
    "                tabela_jogadores.loc[-1, 'altura'] = player_info_dict['Altura'].strip()\n",
    "            except:\n",
    "                pass\n",
    "            try:\n",
    "                tabela_jogadores.loc[-1, 'nacionalidade'] = player_info_dict['Nacionalidade'].strip()\n",
    "            except:\n",
    "                pass\n",
    "            try:\n",
    "                tabela_jogadores.loc[-1, 'posição'] = player_info_dict['Posição'].strip()\n",
    "            except:\n",
    "                pass\n",
    "            try:\n",
    "                tabela_jogadores.loc[-1, 'pé'] = player_info_dict['Pé'].strip()\n",
    "            except:\n",
    "                pass\n",
    "            try:\n",
    "                tabela_jogadores.loc[-1, 'empresários'] = player_info_dict['Empresários'].strip()\n",
    "            except:\n",
    "                pass\n",
    "            try:\n",
    "                tabela_jogadores.loc[-1, 'clube_atual'] = player_info_dict['Clube atual'].strip()\n",
    "            except:\n",
    "                pass\n",
    "            try:\n",
    "                tabela_jogadores.loc[-1, 'tempo_clube'] = player_info_dict['No time desde'].strip()\n",
    "            except:\n",
    "                pass\n",
    "            try:\n",
    "                tabela_jogadores.loc[-1, 'contrato'] = player_info_dict['Contrato até'].strip()\n",
    "            except:\n",
    "                pass\n",
    "            try:\n",
    "                tabela_jogadores.loc[-1, 'ultima_renovacao'] = player_info_dict['Última renovação de contrato'].strip()\n",
    "            except:\n",
    "                pass\n",
    "            try:\n",
    "                tabela_jogadores.loc[-1, 'fornecedor'] = player_info_dict['Fornecedor'].strip()\n",
    "            except:\n",
    "                pass  \n",
    "            try:\n",
    "                tabela_jogadores.loc[-1, 'valor_atual'] = driver.find_element_by_xpath('//*[@id=\"main\"]/div[8]/div/div/div[5]/a').text.split('\\n')[0]\n",
    "            except:\n",
    "                pass \n",
    "            try:\n",
    "                tabela_jogadores.loc[-1, 'ultima_alteracao'] = driver.find_element_by_xpath('//*[@id=\"main\"]/div[8]/div/div/div[5]/a').text.split('\\n')[1].split(':')[1] \n",
    "            except:\n",
    "                pass\n",
    "            try:\n",
    "                tabela_jogadores.loc[-1, 'posicao_secundaria'] = driver.find_element_by_xpath('//*[@id=\"main\"]/div[11]/div[1]/div[2]/div[2]/div[1]/div/div[2]/div/div[1]/div/div[2]').text.split('\\n')[1] \n",
    "            except:\n",
    "                pass\n",
    "            tabela_jogadores.loc[-1, 'url'] = url\n",
    "            tabela_jogadores = tabela_jogadores.reset_index(drop=True)\n",
    "\n",
    "            def get_transferencias(driver):\n",
    "                import pandas as pd\n",
    "                from selenium import webdriver\n",
    "                import time\n",
    "                from selenium.webdriver.common.by import By\n",
    "                from selenium.webdriver.support import expected_conditions as EC\n",
    "                from selenium.webdriver.support.wait import WebDriverWait\n",
    "                from selenium.common.exceptions import TimeoutException\n",
    "                # Get the transfers of the player\n",
    "                try:\n",
    "                    tabela_transferencias = pd.DataFrame(columns=['atleta', 'temporada', 'data', 'origem', 'destino', 'valor_mercado', 'valor_pago'])\n",
    "                    if len(driver.find_elements_by_xpath('//*[@id=\"main\"]/div[11]/div[1]/div[3]/div[2]/table/tbody/tr')) == 0:\n",
    "                        r = int(len(driver.find_elements_by_xpath('//*[@id=\"main\"]/div[11]/div[1]/div[4]/div[2]/table/tbody/tr'))) + 1\n",
    "                    else:\n",
    "                        r = int(len(driver.find_elements_by_xpath('//*[@id=\"main\"]/div[11]/div[1]/div[3]/div[2]/table/tbody/tr'))) + 1\n",
    "\n",
    "                    try:\n",
    "                        for tr in range(1, r):                                                     \n",
    "                            list_to_add = []\n",
    "                            try:\n",
    "                                list_to_add.insert(0, driver.find_element_by_xpath('//*[@id=\"main\"]/div[8]/div/div/div[1]/div/div[1]/h1').text) \n",
    "                            except:\n",
    "                                try:\n",
    "                                    list_to_add.insert(0, driver.find_element_by_xpath('//*[@id=\"main\"]/div[8]/div/div/div[2]/div/div[1]/h1').text) \n",
    "                                except:\n",
    "                                    pass\n",
    "                            # First item\n",
    "                            item_table = 1\n",
    "                            begin_path = '//*[@id=\"main\"]/div[11]/div[1]/div[3]/div[2]/table/tbody/tr['\n",
    "                            middle_path = ']/td['\n",
    "                            end_path = ']'\n",
    "                            value = driver.find_element_by_xpath(begin_path + str(tr) + middle_path + str(item_table) + end_path).text\n",
    "                            list_to_add.append(value)\n",
    "                            # Second item\n",
    "                            item_table = 2\n",
    "                            begin_path = '//*[@id=\"main\"]/div[11]/div[1]/div[3]/div[2]/table/tbody/tr['\n",
    "                            middle_path = ']/td['\n",
    "                            end_path = ']'\n",
    "                            value = driver.find_element_by_xpath(begin_path + str(tr) + middle_path + str(item_table) + end_path).text\n",
    "                            list_to_add.append(value)  \n",
    "                            # Third item\n",
    "                            try:\n",
    "                                item_table = 5\n",
    "                                begin_path = '//*[@id=\"main\"]/div[11]/div[1]/div[3]/div[2]/table/tbody/tr['\n",
    "                                middle_path = ']/td['\n",
    "                                end_path = ']'\n",
    "                                value = driver.find_element_by_xpath(begin_path + str(tr) + middle_path + str(item_table) + end_path).text\n",
    "                                list_to_add.append(value)  \n",
    "                            except:\n",
    "                                item_table = 4\n",
    "                                begin_path = '//*[@id=\"main\"]/div[11]/div[1]/div[3]/div[2]/table/tbody/tr['\n",
    "                                middle_path = ']/td['\n",
    "                                end_path = ']'\n",
    "                                value = driver.find_element_by_xpath(begin_path + str(tr) + middle_path + str(item_table) + end_path).text\n",
    "                                list_to_add.append(value) \n",
    "                            # Fourth item\n",
    "                            item_table += 2\n",
    "                            begin_path = '//*[@id=\"main\"]/div[11]/div[1]/div[3]/div[2]/table/tbody/tr['\n",
    "                            middle_path = ']/td['\n",
    "                            end_path = ']'\n",
    "                            value = driver.find_element_by_xpath(begin_path + str(tr) + middle_path + str(item_table) + end_path).text\n",
    "                            list_to_add.append(value)  \n",
    "                            # Fifth item\n",
    "                            item_table += 1\n",
    "                            begin_path = '//*[@id=\"main\"]/div[11]/div[1]/div[3]/div[2]/table/tbody/tr['\n",
    "                            middle_path = ']/td['\n",
    "                            end_path = ']'\n",
    "                            value = driver.find_element_by_xpath(begin_path + str(tr) + middle_path + str(item_table) + end_path).text\n",
    "                            list_to_add.append(value)\n",
    "                            # Last item\n",
    "                            item_table += 1\n",
    "                            begin_path = '//*[@id=\"main\"]/div[11]/div[1]/div[3]/div[2]/table/tbody/tr['\n",
    "                            middle_path = ']/td['\n",
    "                            end_path = ']'\n",
    "                            value = driver.find_element_by_xpath(begin_path + str(tr) + middle_path + str(item_table) + end_path).text\n",
    "                            list_to_add.append(value)\n",
    "                            tabela_transferencias.loc[-1] = list_to_add     \n",
    "                            tabela_transferencias = tabela_transferencias.reset_index(drop=True)\n",
    "                    except:\n",
    "                        for tr in range(1, r):                                                     \n",
    "                            list_to_add = []\n",
    "                            try:\n",
    "                                list_to_add.insert(0, driver.find_element_by_xpath('//*[@id=\"main\"]/div[8]/div/div/div[1]/div/div[1]/h1').text) \n",
    "                            except:\n",
    "                                try:\n",
    "                                    list_to_add.insert(0, driver.find_element_by_xpath('//*[@id=\"main\"]/div[8]/div/div/div[2]/div/div[1]/h1').text) \n",
    "                                except:\n",
    "                                    pass\n",
    "                            # First item\n",
    "                            item_table = 1\n",
    "                            begin_path = '//*[@id=\"main\"]/div[11]/div[1]/div[4]/div[2]/table/tbody/tr['\n",
    "                            middle_path = ']/td['\n",
    "                            end_path = ']'\n",
    "                            value = driver.find_element_by_xpath(begin_path + str(tr) + middle_path + str(item_table) + end_path).text\n",
    "                            list_to_add.append(value)\n",
    "                            # Second item\n",
    "                            item_table = 2\n",
    "                            begin_path = '//*[@id=\"main\"]/div[11]/div[1]/div[4]/div[2]/table/tbody/tr['\n",
    "                            middle_path = ']/td['\n",
    "                            end_path = ']'\n",
    "                            value = driver.find_element_by_xpath(begin_path + str(tr) + middle_path + str(item_table) + end_path).text\n",
    "                            list_to_add.append(value)  \n",
    "                            # Third item\n",
    "                            item_table = 4\n",
    "                            begin_path = '//*[@id=\"main\"]/div[11]/div[1]/div[4]/div[2]/table/tbody/tr['\n",
    "                            middle_path = ']/td['\n",
    "                            end_path = ']'\n",
    "                            value = driver.find_element_by_xpath(begin_path + str(tr) + middle_path + str(item_table) + end_path).text\n",
    "                            if len(value) > 0:\n",
    "                                list_to_add.append(value)  \n",
    "                            else:\n",
    "                                item_table = 5\n",
    "                                begin_path = '//*[@id=\"main\"]/div[11]/div[1]/div[4]/div[2]/table/tbody/tr['\n",
    "                                middle_path = ']/td['\n",
    "                                end_path = ']'\n",
    "                                value = driver.find_element_by_xpath(begin_path + str(tr) + middle_path + str(item_table) + end_path).text\n",
    "                                list_to_add.append(value) \n",
    "                            # Fourth item\n",
    "                            item_table += 3\n",
    "                            begin_path = '//*[@id=\"main\"]/div[11]/div[1]/div[4]/div[2]/table/tbody/tr['\n",
    "                            middle_path = ']/td['\n",
    "                            end_path = ']'\n",
    "                            value = driver.find_element_by_xpath(begin_path + str(tr) + middle_path + str(item_table) + end_path).text\n",
    "                            list_to_add.append(value)  \n",
    "                            # Fifth item\n",
    "                            item_table += 1\n",
    "                            begin_path = '//*[@id=\"main\"]/div[11]/div[1]/div[4]/div[2]/table/tbody/tr['\n",
    "                            middle_path = ']/td['\n",
    "                            end_path = ']'\n",
    "                            value = driver.find_element_by_xpath(begin_path + str(tr) + middle_path + str(item_table) + end_path).text\n",
    "                            list_to_add.append(value)\n",
    "                            # Last item\n",
    "                            item_table += 1\n",
    "                            begin_path = '//*[@id=\"main\"]/div[11]/div[1]/div[4]/div[2]/table/tbody/tr['\n",
    "                            middle_path = ']/td['\n",
    "                            end_path = ']'\n",
    "                            value = driver.find_element_by_xpath(begin_path + str(tr) + middle_path + str(item_table) + end_path).text\n",
    "                            list_to_add.append(value)\n",
    "                            tabela_transferencias.loc[-1] = list_to_add     \n",
    "                            tabela_transferencias = tabela_transferencias.reset_index(drop=True)\n",
    "\n",
    "                    return tabela_transferencias\n",
    "                except:\n",
    "                    return None\n",
    "            df_transfer = get_transferencias(driver)\n",
    "\n",
    "            driver.close()\n",
    "            return (tabela_jogadores, df_transfer)\n",
    "        except:\n",
    "            driver.close()\n",
    "            pass"
   ]
  },
  {
   "cell_type": "markdown",
   "metadata": {
    "heading_collapsed": true
   },
   "source": [
    "### Get the info with multiprocessing"
   ]
  },
  {
   "cell_type": "code",
   "execution_count": null,
   "metadata": {
    "hidden": true
   },
   "outputs": [],
   "source": [
    "%%time\n",
    "pool = multiprocess.Pool(processes=12)\n",
    "result = pool.map(partial(get_player_info, df_verificacao=tabela_jogadores), tqdm(list(player_table['url'])[6000:7000]))\n",
    "pool.terminate()"
   ]
  },
  {
   "cell_type": "markdown",
   "metadata": {},
   "source": [
    "### Transform the list in a pandas dataframe"
   ]
  },
  {
   "cell_type": "code",
   "execution_count": null,
   "metadata": {},
   "outputs": [],
   "source": [
    "for r in result:\n",
    "    try:\n",
    "        tabela_jogadores = pd.concat([tabela_jogadores, r[0]], ignore_index = True)\n",
    "        player_transfer = pd.concat([player_transfer, r[1]], ignore_index = True)\n",
    "    except:\n",
    "        pass"
   ]
  },
  {
   "cell_type": "markdown",
   "metadata": {
    "heading_collapsed": true
   },
   "source": [
    "### Save the data in CSV"
   ]
  },
  {
   "cell_type": "code",
   "execution_count": null,
   "metadata": {
    "hidden": true
   },
   "outputs": [],
   "source": [
    "player_transfer.to_csv('transfer0_to_1000.csv', index=False)"
   ]
  },
  {
   "cell_type": "code",
   "execution_count": null,
   "metadata": {
    "hidden": true
   },
   "outputs": [],
   "source": [
    "tabela_jogadores.to_csv('tabela0_to_1000.csv', index=False)"
   ]
  },
  {
   "cell_type": "markdown",
   "metadata": {},
   "source": [
    "## Clean the data"
   ]
  },
  {
   "cell_type": "markdown",
   "metadata": {
    "ExecuteTime": {
     "end_time": "2021-02-19T10:49:42.554090Z",
     "start_time": "2021-02-19T10:49:42.551583Z"
    }
   },
   "source": [
    "### Load the data to pandas dataframe"
   ]
  },
  {
   "cell_type": "code",
   "execution_count": 23,
   "metadata": {
    "ExecuteTime": {
     "end_time": "2021-02-19T10:57:04.776328Z",
     "start_time": "2021-02-19T10:57:04.631443Z"
    }
   },
   "outputs": [],
   "source": [
    "player_info_table_v1 = pd.read_csv('tabela0_to_1000.csv')\n",
    "player_info_table_v2 = pd.read_csv('tabela0_to_2000.csv')\n",
    "player_info_table_v3 = pd.read_csv('tabela0_to_3000.csv')\n",
    "player_info_table_v4 = pd.read_csv('tabela0_to_4000.csv')\n",
    "player_info_table_v5 = pd.read_csv('tabela0_to_5000.csv')\n",
    "player_info_table_v6 = pd.read_csv('tabela0_to_6000.csv')\n",
    "player_info_table_v7 = pd.read_csv('tabela0_to_7000.csv')"
   ]
  },
  {
   "cell_type": "markdown",
   "metadata": {},
   "source": [
    "### Concatenate all the tables"
   ]
  },
  {
   "cell_type": "code",
   "execution_count": 24,
   "metadata": {
    "ExecuteTime": {
     "end_time": "2021-02-19T10:57:07.639441Z",
     "start_time": "2021-02-19T10:57:07.623398Z"
    }
   },
   "outputs": [],
   "source": [
    "main_playerinfo_table = pd.concat([player_info_table_v7, player_info_table_v6, player_info_table_v5, player_info_table_v4, player_info_table_v3, player_info_table_v2,\n",
    "                                   player_info_table_v1])"
   ]
  },
  {
   "cell_type": "markdown",
   "metadata": {
    "heading_collapsed": true
   },
   "source": [
    "### Drop the duplicates"
   ]
  },
  {
   "cell_type": "code",
   "execution_count": 25,
   "metadata": {
    "ExecuteTime": {
     "end_time": "2021-02-19T10:57:24.836166Z",
     "start_time": "2021-02-19T10:57:24.803077Z"
    },
    "hidden": true
   },
   "outputs": [],
   "source": [
    "main_playerinfo_table = main_playerinfo_table.drop_duplicates(subset=['atleta', 'data_nascimento', 'local_nascimento', 'altura', 'empresários'])"
   ]
  },
  {
   "cell_type": "markdown",
   "metadata": {
    "heading_collapsed": true
   },
   "source": [
    "### Clean the data"
   ]
  },
  {
   "cell_type": "code",
   "execution_count": 33,
   "metadata": {
    "ExecuteTime": {
     "end_time": "2021-02-19T11:02:17.110746Z",
     "start_time": "2021-02-19T11:02:17.088687Z"
    },
    "hidden": true
   },
   "outputs": [
    {
     "data": {
      "text/html": [
       "<div>\n",
       "<style scoped>\n",
       "    .dataframe tbody tr th:only-of-type {\n",
       "        vertical-align: middle;\n",
       "    }\n",
       "\n",
       "    .dataframe tbody tr th {\n",
       "        vertical-align: top;\n",
       "    }\n",
       "\n",
       "    .dataframe thead th {\n",
       "        text-align: right;\n",
       "    }\n",
       "</style>\n",
       "<table border=\"1\" class=\"dataframe\">\n",
       "  <thead>\n",
       "    <tr style=\"text-align: right;\">\n",
       "      <th></th>\n",
       "      <th>atleta</th>\n",
       "      <th>data_nascimento</th>\n",
       "      <th>local_nascimento</th>\n",
       "      <th>idade</th>\n",
       "      <th>altura</th>\n",
       "      <th>nacionalidade</th>\n",
       "      <th>posição</th>\n",
       "      <th>pé</th>\n",
       "      <th>empresários</th>\n",
       "      <th>clube_atual</th>\n",
       "      <th>tempo_clube</th>\n",
       "      <th>contrato</th>\n",
       "      <th>ultima_renovacao</th>\n",
       "      <th>fornecedor</th>\n",
       "      <th>posicao_secundaria</th>\n",
       "      <th>valor_atual</th>\n",
       "      <th>ultima_alteracao</th>\n",
       "      <th>url</th>\n",
       "      <th>Unnamed: 0</th>\n",
       "    </tr>\n",
       "  </thead>\n",
       "  <tbody>\n",
       "    <tr>\n",
       "      <th>0</th>\n",
       "      <td>João Veras</td>\n",
       "      <td>26/10/2000</td>\n",
       "      <td>Gama</td>\n",
       "      <td>20.0</td>\n",
       "      <td>NaN</td>\n",
       "      <td>Brasil</td>\n",
       "      <td>Atacante - Centroavante</td>\n",
       "      <td>NaN</td>\n",
       "      <td>Casa Soccer/EL</td>\n",
       "      <td>AA Ponte Preta</td>\n",
       "      <td>10/07/2020</td>\n",
       "      <td>31/12/2022</td>\n",
       "      <td>16/07/2020</td>\n",
       "      <td>NaN</td>\n",
       "      <td>NaN</td>\n",
       "      <td>NaN</td>\n",
       "      <td>NaN</td>\n",
       "      <td>https://www.transfermarkt.com.br/joao-veras/pr...</td>\n",
       "      <td>NaN</td>\n",
       "    </tr>\n",
       "    <tr>\n",
       "      <th>1</th>\n",
       "      <td>João Gabriel</td>\n",
       "      <td>22/03/1992</td>\n",
       "      <td>Aracaju</td>\n",
       "      <td>28.0</td>\n",
       "      <td>1.90</td>\n",
       "      <td>Brasil</td>\n",
       "      <td>Goleiro</td>\n",
       "      <td>direito</td>\n",
       "      <td>BBM Sports</td>\n",
       "      <td>EC Vitória</td>\n",
       "      <td>03/01/2019</td>\n",
       "      <td>31/12/2021</td>\n",
       "      <td>NaN</td>\n",
       "      <td>NaN</td>\n",
       "      <td>NaN</td>\n",
       "      <td>NaN</td>\n",
       "      <td>NaN</td>\n",
       "      <td>https://www.transfermarkt.com.br/joao-gabriel/...</td>\n",
       "      <td>NaN</td>\n",
       "    </tr>\n",
       "    <tr>\n",
       "      <th>2</th>\n",
       "      <td>Ronaldo</td>\n",
       "      <td>22/08/1996</td>\n",
       "      <td>Salvador</td>\n",
       "      <td>24.0</td>\n",
       "      <td>1.94</td>\n",
       "      <td>Brasil</td>\n",
       "      <td>Goleiro</td>\n",
       "      <td>direito</td>\n",
       "      <td>Antoniu's Assessoria</td>\n",
       "      <td>EC Vitória</td>\n",
       "      <td>10/01/2018</td>\n",
       "      <td>-</td>\n",
       "      <td>11/11/2017</td>\n",
       "      <td>NaN</td>\n",
       "      <td>NaN</td>\n",
       "      <td>50000.0</td>\n",
       "      <td>23/05/2018</td>\n",
       "      <td>https://www.transfermarkt.com.br/ronaldo/profi...</td>\n",
       "      <td>NaN</td>\n",
       "    </tr>\n",
       "    <tr>\n",
       "      <th>3</th>\n",
       "      <td>Lucas</td>\n",
       "      <td>08/08/1998</td>\n",
       "      <td>NaN</td>\n",
       "      <td>22.0</td>\n",
       "      <td>NaN</td>\n",
       "      <td>Brasil</td>\n",
       "      <td>Goleiro</td>\n",
       "      <td>NaN</td>\n",
       "      <td>Roni7</td>\n",
       "      <td>EC Vitória</td>\n",
       "      <td>-</td>\n",
       "      <td>-</td>\n",
       "      <td>NaN</td>\n",
       "      <td>NaN</td>\n",
       "      <td>NaN</td>\n",
       "      <td>NaN</td>\n",
       "      <td>NaN</td>\n",
       "      <td>https://www.transfermarkt.com.br/lucas/profil/...</td>\n",
       "      <td>NaN</td>\n",
       "    </tr>\n",
       "    <tr>\n",
       "      <th>4</th>\n",
       "      <td>Maurício Ramos</td>\n",
       "      <td>10/04/1985</td>\n",
       "      <td>Piracicaba</td>\n",
       "      <td>35.0</td>\n",
       "      <td>1.82</td>\n",
       "      <td>Brasil</td>\n",
       "      <td>Defensor - Zagueiro</td>\n",
       "      <td>direito</td>\n",
       "      <td>PW SOCCER CONSULTANCY, S.L</td>\n",
       "      <td>EC Vitória</td>\n",
       "      <td>01/01/2020</td>\n",
       "      <td>31/12/2021</td>\n",
       "      <td>NaN</td>\n",
       "      <td>NaN</td>\n",
       "      <td>Lateral Dir.</td>\n",
       "      <td>300000.0</td>\n",
       "      <td>08/04/2020</td>\n",
       "      <td>https://www.transfermarkt.com.br/mauricio-ramo...</td>\n",
       "      <td>NaN</td>\n",
       "    </tr>\n",
       "  </tbody>\n",
       "</table>\n",
       "</div>"
      ],
      "text/plain": [
       "           atleta data_nascimento local_nascimento  idade  altura  \\\n",
       "0      João Veras      26/10/2000             Gama   20.0     NaN   \n",
       "1    João Gabriel      22/03/1992          Aracaju   28.0    1.90   \n",
       "2         Ronaldo      22/08/1996         Salvador   24.0    1.94   \n",
       "3           Lucas      08/08/1998              NaN   22.0     NaN   \n",
       "4  Maurício Ramos      10/04/1985       Piracicaba   35.0    1.82   \n",
       "\n",
       "  nacionalidade                  posição       pé                 empresários  \\\n",
       "0        Brasil  Atacante - Centroavante      NaN              Casa Soccer/EL   \n",
       "1        Brasil                  Goleiro  direito                  BBM Sports   \n",
       "2        Brasil                  Goleiro  direito        Antoniu's Assessoria   \n",
       "3        Brasil                  Goleiro      NaN                       Roni7   \n",
       "4        Brasil      Defensor - Zagueiro  direito  PW SOCCER CONSULTANCY, S.L   \n",
       "\n",
       "      clube_atual tempo_clube    contrato ultima_renovacao fornecedor  \\\n",
       "0  AA Ponte Preta  10/07/2020  31/12/2022       16/07/2020        NaN   \n",
       "1      EC Vitória  03/01/2019  31/12/2021              NaN        NaN   \n",
       "2      EC Vitória  10/01/2018           -       11/11/2017        NaN   \n",
       "3      EC Vitória           -           -              NaN        NaN   \n",
       "4      EC Vitória  01/01/2020  31/12/2021              NaN        NaN   \n",
       "\n",
       "  posicao_secundaria  valor_atual ultima_alteracao  \\\n",
       "0                NaN          NaN              NaN   \n",
       "1                NaN          NaN              NaN   \n",
       "2                NaN      50000.0       23/05/2018   \n",
       "3                NaN          NaN              NaN   \n",
       "4       Lateral Dir.     300000.0       08/04/2020   \n",
       "\n",
       "                                                 url  Unnamed: 0  \n",
       "0  https://www.transfermarkt.com.br/joao-veras/pr...         NaN  \n",
       "1  https://www.transfermarkt.com.br/joao-gabriel/...         NaN  \n",
       "2  https://www.transfermarkt.com.br/ronaldo/profi...         NaN  \n",
       "3  https://www.transfermarkt.com.br/lucas/profil/...         NaN  \n",
       "4  https://www.transfermarkt.com.br/mauricio-ramo...         NaN  "
      ]
     },
     "execution_count": 33,
     "metadata": {},
     "output_type": "execute_result"
    }
   ],
   "source": [
    "main_playerinfo_table.head(5)"
   ]
  },
  {
   "cell_type": "code",
   "execution_count": 27,
   "metadata": {
    "ExecuteTime": {
     "end_time": "2021-02-19T10:57:44.074315Z",
     "start_time": "2021-02-19T10:57:44.055267Z"
    },
    "hidden": true
   },
   "outputs": [],
   "source": [
    "main_playerinfo_table['valor_atual'] = main_playerinfo_table['valor_atual'].str.replace(' €', '').str.replace(',', '').str.replace('mil', '000').\\\n",
    "                                                            str.replace('mi', '0000').str.replace(' ', '').str.replace('.', '').astype(float)"
   ]
  },
  {
   "cell_type": "code",
   "execution_count": 47,
   "metadata": {
    "ExecuteTime": {
     "end_time": "2021-02-19T11:17:38.354835Z",
     "start_time": "2021-02-19T11:17:38.351326Z"
    },
    "hidden": true
   },
   "outputs": [],
   "source": [
    "main_playerinfo_table['valor_atual'] = main_playerinfo_table['valor_atual'].replace(' .', ',')"
   ]
  },
  {
   "cell_type": "code",
   "execution_count": 30,
   "metadata": {
    "ExecuteTime": {
     "end_time": "2021-02-19T10:59:47.177107Z",
     "start_time": "2021-02-19T10:59:47.161066Z"
    },
    "hidden": true
   },
   "outputs": [],
   "source": [
    "main_playerinfo_table['altura'] = main_playerinfo_table['altura'].str.replace(',', '.').str.replace(' m', '').astype(float)"
   ]
  },
  {
   "cell_type": "code",
   "execution_count": 48,
   "metadata": {
    "ExecuteTime": {
     "end_time": "2021-02-19T11:18:04.905928Z",
     "start_time": "2021-02-19T11:18:04.902419Z"
    },
    "hidden": true
   },
   "outputs": [],
   "source": [
    "main_playerinfo_table['altura'] = main_playerinfo_table['altura'].replace('.', ',')"
   ]
  },
  {
   "cell_type": "code",
   "execution_count": 49,
   "metadata": {
    "ExecuteTime": {
     "end_time": "2021-02-19T11:18:38.781993Z",
     "start_time": "2021-02-19T11:18:38.777982Z"
    },
    "hidden": true
   },
   "outputs": [],
   "source": [
    "main_playerinfo_table['valor_atual'] = main_playerinfo_table['valor_atual'].replace('.', ',')"
   ]
  },
  {
   "cell_type": "code",
   "execution_count": 34,
   "metadata": {
    "ExecuteTime": {
     "end_time": "2021-02-19T11:02:28.740675Z",
     "start_time": "2021-02-19T11:02:28.736163Z"
    },
    "hidden": true
   },
   "outputs": [],
   "source": [
    "main_playerinfo_table = main_playerinfo_table.drop(columns=['Unnamed: 0'])"
   ]
  },
  {
   "cell_type": "markdown",
   "metadata": {
    "ExecuteTime": {
     "end_time": "2021-02-19T10:42:21.034603Z",
     "start_time": "2021-02-19T10:42:21.025078Z"
    },
    "heading_collapsed": true
   },
   "source": [
    "### Export the main table to CSV"
   ]
  },
  {
   "cell_type": "code",
   "execution_count": 50,
   "metadata": {
    "ExecuteTime": {
     "end_time": "2021-02-19T11:18:45.186018Z",
     "start_time": "2021-02-19T11:18:45.118338Z"
    },
    "hidden": true
   },
   "outputs": [],
   "source": [
    "main_playerinfo_table.to_csv('Player Info.csv')"
   ]
  },
  {
   "cell_type": "markdown",
   "metadata": {
    "heading_collapsed": true
   },
   "source": [
    "### Cleaning Transfer Data"
   ]
  },
  {
   "cell_type": "code",
   "execution_count": 36,
   "metadata": {
    "ExecuteTime": {
     "end_time": "2021-02-19T11:05:56.017752Z",
     "start_time": "2021-02-19T11:05:51.658162Z"
    },
    "hidden": true
   },
   "outputs": [],
   "source": [
    "transfer_info_table_v1 = pd.read_csv('transfer0_to_1000.csv')\n",
    "transfer_info_table_v2 = pd.read_csv('transfer0_to_2000.csv')\n",
    "transfer_info_table_v3 = pd.read_csv('transfer0_to_3000.csv')\n",
    "transfer_info_table_v4 = pd.read_csv('transfer0_to_4000.csv')\n",
    "transfer_info_table_v5 = pd.read_csv('transfer0_to_5000.csv')\n",
    "transfer_info_table_v6 = pd.read_csv('transfer0_to_6000.csv')\n",
    "transfer_info_table_v7 = pd.read_csv('transfer0_to_7000.csv')"
   ]
  },
  {
   "cell_type": "code",
   "execution_count": 37,
   "metadata": {
    "ExecuteTime": {
     "end_time": "2021-02-19T11:06:35.252589Z",
     "start_time": "2021-02-19T11:06:35.239554Z"
    },
    "hidden": true
   },
   "outputs": [],
   "source": [
    "main_transferinfo_table = pd.concat([transfer_info_table_v7, transfer_info_table_v6, transfer_info_table_v5, transfer_info_table_v4, transfer_info_table_v3, transfer_info_table_v2,\n",
    "                                   transfer_info_table_v1])"
   ]
  },
  {
   "cell_type": "code",
   "execution_count": 41,
   "metadata": {
    "ExecuteTime": {
     "end_time": "2021-02-19T11:09:21.323673Z",
     "start_time": "2021-02-19T11:09:21.313145Z"
    },
    "hidden": true
   },
   "outputs": [],
   "source": [
    "main_transferinfo_table = main_transferinfo_table.drop(columns=['Unnamed: 0'])"
   ]
  },
  {
   "cell_type": "code",
   "execution_count": 42,
   "metadata": {
    "ExecuteTime": {
     "end_time": "2021-02-19T11:09:24.679094Z",
     "start_time": "2021-02-19T11:09:24.606902Z"
    },
    "hidden": true
   },
   "outputs": [],
   "source": [
    "main_transferinfo_table = main_transferinfo_table.drop_duplicates() "
   ]
  },
  {
   "cell_type": "code",
   "execution_count": 44,
   "metadata": {
    "ExecuteTime": {
     "end_time": "2021-02-19T11:11:28.254647Z",
     "start_time": "2021-02-19T11:11:28.144855Z"
    },
    "hidden": true
   },
   "outputs": [
    {
     "ename": "ValueError",
     "evalue": "could not convert string to float: '-'",
     "output_type": "error",
     "traceback": [
      "\u001b[1;31m---------------------------------------------------------------------------\u001b[0m",
      "\u001b[1;31mValueError\u001b[0m                                Traceback (most recent call last)",
      "\u001b[1;32m<ipython-input-44-5e57e8f32dae>\u001b[0m in \u001b[0;36m<module>\u001b[1;34m\u001b[0m\n\u001b[1;32m----> 1\u001b[1;33m \u001b[0mmain_transferinfo_table\u001b[0m\u001b[1;33m[\u001b[0m\u001b[1;34m'valor_pago'\u001b[0m\u001b[1;33m]\u001b[0m \u001b[1;33m=\u001b[0m \u001b[0mmain_transferinfo_table\u001b[0m\u001b[1;33m[\u001b[0m\u001b[1;34m'valor_pago'\u001b[0m\u001b[1;33m]\u001b[0m\u001b[1;33m.\u001b[0m\u001b[0mstr\u001b[0m\u001b[1;33m.\u001b[0m\u001b[0mreplace\u001b[0m\u001b[1;33m(\u001b[0m\u001b[1;34m' €'\u001b[0m\u001b[1;33m,\u001b[0m \u001b[1;34m''\u001b[0m\u001b[1;33m)\u001b[0m\u001b[1;33m.\u001b[0m\u001b[0mstr\u001b[0m\u001b[1;33m.\u001b[0m\u001b[0mreplace\u001b[0m\u001b[1;33m(\u001b[0m\u001b[1;34m','\u001b[0m\u001b[1;33m,\u001b[0m \u001b[1;34m''\u001b[0m\u001b[1;33m)\u001b[0m\u001b[1;33m.\u001b[0m\u001b[0mstr\u001b[0m\u001b[1;33m.\u001b[0m\u001b[0mreplace\u001b[0m\u001b[1;33m(\u001b[0m\u001b[1;34m'mil'\u001b[0m\u001b[1;33m,\u001b[0m \u001b[1;34m'000'\u001b[0m\u001b[1;33m)\u001b[0m\u001b[1;33m.\u001b[0m\u001b[0;31m\\\u001b[0m\u001b[1;33m\u001b[0m\u001b[1;33m\u001b[0m\u001b[0m\n\u001b[0m\u001b[0;32m      2\u001b[0m                                                             \u001b[0mstr\u001b[0m\u001b[1;33m.\u001b[0m\u001b[0mreplace\u001b[0m\u001b[1;33m(\u001b[0m\u001b[1;34m'mi'\u001b[0m\u001b[1;33m,\u001b[0m \u001b[1;34m'0000'\u001b[0m\u001b[1;33m)\u001b[0m\u001b[1;33m.\u001b[0m\u001b[0mstr\u001b[0m\u001b[1;33m.\u001b[0m\u001b[0mreplace\u001b[0m\u001b[1;33m(\u001b[0m\u001b[1;34m' '\u001b[0m\u001b[1;33m,\u001b[0m \u001b[1;34m''\u001b[0m\u001b[1;33m)\u001b[0m\u001b[1;33m.\u001b[0m\u001b[0mstr\u001b[0m\u001b[1;33m.\u001b[0m\u001b[0mreplace\u001b[0m\u001b[1;33m(\u001b[0m\u001b[1;34m'.'\u001b[0m\u001b[1;33m,\u001b[0m \u001b[1;34m''\u001b[0m\u001b[1;33m)\u001b[0m\u001b[1;33m.\u001b[0m\u001b[0mastype\u001b[0m\u001b[1;33m(\u001b[0m\u001b[0mfloat\u001b[0m\u001b[1;33m)\u001b[0m\u001b[1;33m\u001b[0m\u001b[1;33m\u001b[0m\u001b[0m\n",
      "\u001b[1;32m~\\Anaconda3\\lib\\site-packages\\pandas\\core\\generic.py\u001b[0m in \u001b[0;36mastype\u001b[1;34m(self, dtype, copy, errors)\u001b[0m\n\u001b[0;32m   5696\u001b[0m         \u001b[1;32melse\u001b[0m\u001b[1;33m:\u001b[0m\u001b[1;33m\u001b[0m\u001b[1;33m\u001b[0m\u001b[0m\n\u001b[0;32m   5697\u001b[0m             \u001b[1;31m# else, only a single dtype is given\u001b[0m\u001b[1;33m\u001b[0m\u001b[1;33m\u001b[0m\u001b[1;33m\u001b[0m\u001b[0m\n\u001b[1;32m-> 5698\u001b[1;33m             \u001b[0mnew_data\u001b[0m \u001b[1;33m=\u001b[0m \u001b[0mself\u001b[0m\u001b[1;33m.\u001b[0m\u001b[0m_data\u001b[0m\u001b[1;33m.\u001b[0m\u001b[0mastype\u001b[0m\u001b[1;33m(\u001b[0m\u001b[0mdtype\u001b[0m\u001b[1;33m=\u001b[0m\u001b[0mdtype\u001b[0m\u001b[1;33m,\u001b[0m \u001b[0mcopy\u001b[0m\u001b[1;33m=\u001b[0m\u001b[0mcopy\u001b[0m\u001b[1;33m,\u001b[0m \u001b[0merrors\u001b[0m\u001b[1;33m=\u001b[0m\u001b[0merrors\u001b[0m\u001b[1;33m)\u001b[0m\u001b[1;33m\u001b[0m\u001b[1;33m\u001b[0m\u001b[0m\n\u001b[0m\u001b[0;32m   5699\u001b[0m             \u001b[1;32mreturn\u001b[0m \u001b[0mself\u001b[0m\u001b[1;33m.\u001b[0m\u001b[0m_constructor\u001b[0m\u001b[1;33m(\u001b[0m\u001b[0mnew_data\u001b[0m\u001b[1;33m)\u001b[0m\u001b[1;33m.\u001b[0m\u001b[0m__finalize__\u001b[0m\u001b[1;33m(\u001b[0m\u001b[0mself\u001b[0m\u001b[1;33m)\u001b[0m\u001b[1;33m\u001b[0m\u001b[1;33m\u001b[0m\u001b[0m\n\u001b[0;32m   5700\u001b[0m \u001b[1;33m\u001b[0m\u001b[0m\n",
      "\u001b[1;32m~\\Anaconda3\\lib\\site-packages\\pandas\\core\\internals\\managers.py\u001b[0m in \u001b[0;36mastype\u001b[1;34m(self, dtype, copy, errors)\u001b[0m\n\u001b[0;32m    580\u001b[0m \u001b[1;33m\u001b[0m\u001b[0m\n\u001b[0;32m    581\u001b[0m     \u001b[1;32mdef\u001b[0m \u001b[0mastype\u001b[0m\u001b[1;33m(\u001b[0m\u001b[0mself\u001b[0m\u001b[1;33m,\u001b[0m \u001b[0mdtype\u001b[0m\u001b[1;33m,\u001b[0m \u001b[0mcopy\u001b[0m\u001b[1;33m:\u001b[0m \u001b[0mbool\u001b[0m \u001b[1;33m=\u001b[0m \u001b[1;32mFalse\u001b[0m\u001b[1;33m,\u001b[0m \u001b[0merrors\u001b[0m\u001b[1;33m:\u001b[0m \u001b[0mstr\u001b[0m \u001b[1;33m=\u001b[0m \u001b[1;34m\"raise\"\u001b[0m\u001b[1;33m)\u001b[0m\u001b[1;33m:\u001b[0m\u001b[1;33m\u001b[0m\u001b[1;33m\u001b[0m\u001b[0m\n\u001b[1;32m--> 582\u001b[1;33m         \u001b[1;32mreturn\u001b[0m \u001b[0mself\u001b[0m\u001b[1;33m.\u001b[0m\u001b[0mapply\u001b[0m\u001b[1;33m(\u001b[0m\u001b[1;34m\"astype\"\u001b[0m\u001b[1;33m,\u001b[0m \u001b[0mdtype\u001b[0m\u001b[1;33m=\u001b[0m\u001b[0mdtype\u001b[0m\u001b[1;33m,\u001b[0m \u001b[0mcopy\u001b[0m\u001b[1;33m=\u001b[0m\u001b[0mcopy\u001b[0m\u001b[1;33m,\u001b[0m \u001b[0merrors\u001b[0m\u001b[1;33m=\u001b[0m\u001b[0merrors\u001b[0m\u001b[1;33m)\u001b[0m\u001b[1;33m\u001b[0m\u001b[1;33m\u001b[0m\u001b[0m\n\u001b[0m\u001b[0;32m    583\u001b[0m \u001b[1;33m\u001b[0m\u001b[0m\n\u001b[0;32m    584\u001b[0m     \u001b[1;32mdef\u001b[0m \u001b[0mconvert\u001b[0m\u001b[1;33m(\u001b[0m\u001b[0mself\u001b[0m\u001b[1;33m,\u001b[0m \u001b[1;33m**\u001b[0m\u001b[0mkwargs\u001b[0m\u001b[1;33m)\u001b[0m\u001b[1;33m:\u001b[0m\u001b[1;33m\u001b[0m\u001b[1;33m\u001b[0m\u001b[0m\n",
      "\u001b[1;32m~\\Anaconda3\\lib\\site-packages\\pandas\\core\\internals\\managers.py\u001b[0m in \u001b[0;36mapply\u001b[1;34m(self, f, filter, **kwargs)\u001b[0m\n\u001b[0;32m    440\u001b[0m                 \u001b[0mapplied\u001b[0m \u001b[1;33m=\u001b[0m \u001b[0mb\u001b[0m\u001b[1;33m.\u001b[0m\u001b[0mapply\u001b[0m\u001b[1;33m(\u001b[0m\u001b[0mf\u001b[0m\u001b[1;33m,\u001b[0m \u001b[1;33m**\u001b[0m\u001b[0mkwargs\u001b[0m\u001b[1;33m)\u001b[0m\u001b[1;33m\u001b[0m\u001b[1;33m\u001b[0m\u001b[0m\n\u001b[0;32m    441\u001b[0m             \u001b[1;32melse\u001b[0m\u001b[1;33m:\u001b[0m\u001b[1;33m\u001b[0m\u001b[1;33m\u001b[0m\u001b[0m\n\u001b[1;32m--> 442\u001b[1;33m                 \u001b[0mapplied\u001b[0m \u001b[1;33m=\u001b[0m \u001b[0mgetattr\u001b[0m\u001b[1;33m(\u001b[0m\u001b[0mb\u001b[0m\u001b[1;33m,\u001b[0m \u001b[0mf\u001b[0m\u001b[1;33m)\u001b[0m\u001b[1;33m(\u001b[0m\u001b[1;33m**\u001b[0m\u001b[0mkwargs\u001b[0m\u001b[1;33m)\u001b[0m\u001b[1;33m\u001b[0m\u001b[1;33m\u001b[0m\u001b[0m\n\u001b[0m\u001b[0;32m    443\u001b[0m             \u001b[0mresult_blocks\u001b[0m \u001b[1;33m=\u001b[0m \u001b[0m_extend_blocks\u001b[0m\u001b[1;33m(\u001b[0m\u001b[0mapplied\u001b[0m\u001b[1;33m,\u001b[0m \u001b[0mresult_blocks\u001b[0m\u001b[1;33m)\u001b[0m\u001b[1;33m\u001b[0m\u001b[1;33m\u001b[0m\u001b[0m\n\u001b[0;32m    444\u001b[0m \u001b[1;33m\u001b[0m\u001b[0m\n",
      "\u001b[1;32m~\\Anaconda3\\lib\\site-packages\\pandas\\core\\internals\\blocks.py\u001b[0m in \u001b[0;36mastype\u001b[1;34m(self, dtype, copy, errors)\u001b[0m\n\u001b[0;32m    623\u001b[0m             \u001b[0mvals1d\u001b[0m \u001b[1;33m=\u001b[0m \u001b[0mvalues\u001b[0m\u001b[1;33m.\u001b[0m\u001b[0mravel\u001b[0m\u001b[1;33m(\u001b[0m\u001b[1;33m)\u001b[0m\u001b[1;33m\u001b[0m\u001b[1;33m\u001b[0m\u001b[0m\n\u001b[0;32m    624\u001b[0m             \u001b[1;32mtry\u001b[0m\u001b[1;33m:\u001b[0m\u001b[1;33m\u001b[0m\u001b[1;33m\u001b[0m\u001b[0m\n\u001b[1;32m--> 625\u001b[1;33m                 \u001b[0mvalues\u001b[0m \u001b[1;33m=\u001b[0m \u001b[0mastype_nansafe\u001b[0m\u001b[1;33m(\u001b[0m\u001b[0mvals1d\u001b[0m\u001b[1;33m,\u001b[0m \u001b[0mdtype\u001b[0m\u001b[1;33m,\u001b[0m \u001b[0mcopy\u001b[0m\u001b[1;33m=\u001b[0m\u001b[1;32mTrue\u001b[0m\u001b[1;33m)\u001b[0m\u001b[1;33m\u001b[0m\u001b[1;33m\u001b[0m\u001b[0m\n\u001b[0m\u001b[0;32m    626\u001b[0m             \u001b[1;32mexcept\u001b[0m \u001b[1;33m(\u001b[0m\u001b[0mValueError\u001b[0m\u001b[1;33m,\u001b[0m \u001b[0mTypeError\u001b[0m\u001b[1;33m)\u001b[0m\u001b[1;33m:\u001b[0m\u001b[1;33m\u001b[0m\u001b[1;33m\u001b[0m\u001b[0m\n\u001b[0;32m    627\u001b[0m                 \u001b[1;31m# e.g. astype_nansafe can fail on object-dtype of strings\u001b[0m\u001b[1;33m\u001b[0m\u001b[1;33m\u001b[0m\u001b[1;33m\u001b[0m\u001b[0m\n",
      "\u001b[1;32m~\\Anaconda3\\lib\\site-packages\\pandas\\core\\dtypes\\cast.py\u001b[0m in \u001b[0;36mastype_nansafe\u001b[1;34m(arr, dtype, copy, skipna)\u001b[0m\n\u001b[0;32m    895\u001b[0m     \u001b[1;32mif\u001b[0m \u001b[0mcopy\u001b[0m \u001b[1;32mor\u001b[0m \u001b[0mis_object_dtype\u001b[0m\u001b[1;33m(\u001b[0m\u001b[0marr\u001b[0m\u001b[1;33m)\u001b[0m \u001b[1;32mor\u001b[0m \u001b[0mis_object_dtype\u001b[0m\u001b[1;33m(\u001b[0m\u001b[0mdtype\u001b[0m\u001b[1;33m)\u001b[0m\u001b[1;33m:\u001b[0m\u001b[1;33m\u001b[0m\u001b[1;33m\u001b[0m\u001b[0m\n\u001b[0;32m    896\u001b[0m         \u001b[1;31m# Explicit copy, or required since NumPy can't view from / to object.\u001b[0m\u001b[1;33m\u001b[0m\u001b[1;33m\u001b[0m\u001b[1;33m\u001b[0m\u001b[0m\n\u001b[1;32m--> 897\u001b[1;33m         \u001b[1;32mreturn\u001b[0m \u001b[0marr\u001b[0m\u001b[1;33m.\u001b[0m\u001b[0mastype\u001b[0m\u001b[1;33m(\u001b[0m\u001b[0mdtype\u001b[0m\u001b[1;33m,\u001b[0m \u001b[0mcopy\u001b[0m\u001b[1;33m=\u001b[0m\u001b[1;32mTrue\u001b[0m\u001b[1;33m)\u001b[0m\u001b[1;33m\u001b[0m\u001b[1;33m\u001b[0m\u001b[0m\n\u001b[0m\u001b[0;32m    898\u001b[0m \u001b[1;33m\u001b[0m\u001b[0m\n\u001b[0;32m    899\u001b[0m     \u001b[1;32mreturn\u001b[0m \u001b[0marr\u001b[0m\u001b[1;33m.\u001b[0m\u001b[0mview\u001b[0m\u001b[1;33m(\u001b[0m\u001b[0mdtype\u001b[0m\u001b[1;33m)\u001b[0m\u001b[1;33m\u001b[0m\u001b[1;33m\u001b[0m\u001b[0m\n",
      "\u001b[1;31mValueError\u001b[0m: could not convert string to float: '-'"
     ]
    }
   ],
   "source": [
    "main_transferinfo_table['valor_pago'] = main_transferinfo_table['valor_pago'].str.replace(' €', '').str.replace(',', '').str.replace('mil', '000').\\\n",
    "                                                            str.replace('mi', '0000').str.replace(' ', '').str.replace('.', '').astype(float)"
   ]
  },
  {
   "cell_type": "code",
   "execution_count": 45,
   "metadata": {
    "ExecuteTime": {
     "end_time": "2021-02-19T11:12:10.968211Z",
     "start_time": "2021-02-19T11:12:10.958685Z"
    },
    "hidden": true
   },
   "outputs": [
    {
     "data": {
      "text/plain": [
       "Index(['-', 'custo zero', '50 mil €', '100 mil €', '200 mil €', '300 mil €',\n",
       "       '150 mil €', '250 mil €', '500 mil €', '400 mil €',\n",
       "       ...\n",
       "       '880 mil €', '5,25 mi. €', '1,15 mi. €', '180 mil €',\n",
       "       'Valor de empréstimo:\\n6,80 mi. €', '9,06 mi. €', '50,00 mi. €',\n",
       "       'Valor de empréstimo:\\n350 mil €', 'Valor de empréstimo:\\n40 mil €',\n",
       "       '3,56 mi. €'],\n",
       "      dtype='object', length=204)"
      ]
     },
     "execution_count": 45,
     "metadata": {},
     "output_type": "execute_result"
    }
   ],
   "source": [
    "main_transferinfo_table['valor_pago'].value_counts().index "
   ]
  }
 ],
 "metadata": {
  "kernelspec": {
   "display_name": "Python 3",
   "language": "python",
   "name": "python3"
  },
  "language_info": {
   "codemirror_mode": {
    "name": "ipython",
    "version": 3
   },
   "file_extension": ".py",
   "mimetype": "text/x-python",
   "name": "python",
   "nbconvert_exporter": "python",
   "pygments_lexer": "ipython3",
   "version": "3.8.5"
  },
  "toc": {
   "base_numbering": 1,
   "nav_menu": {},
   "number_sections": true,
   "sideBar": true,
   "skip_h1_title": false,
   "title_cell": "Table of Contents",
   "title_sidebar": "Contents",
   "toc_cell": false,
   "toc_position": {},
   "toc_section_display": true,
   "toc_window_display": false
  },
  "varInspector": {
   "cols": {
    "lenName": 16,
    "lenType": 16,
    "lenVar": 40
   },
   "kernels_config": {
    "python": {
     "delete_cmd_postfix": "",
     "delete_cmd_prefix": "del ",
     "library": "var_list.py",
     "varRefreshCmd": "print(var_dic_list())"
    },
    "r": {
     "delete_cmd_postfix": ") ",
     "delete_cmd_prefix": "rm(",
     "library": "var_list.r",
     "varRefreshCmd": "cat(var_dic_list()) "
    }
   },
   "types_to_exclude": [
    "module",
    "function",
    "builtin_function_or_method",
    "instance",
    "_Feature"
   ],
   "window_display": false
  }
 },
 "nbformat": 4,
 "nbformat_minor": 4
}
